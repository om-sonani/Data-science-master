{
 "cells": [
  {
   "cell_type": "markdown",
   "id": "8e0a94c0-95a5-4acd-80ab-117d4dbc2749",
   "metadata": {},
   "source": [
    "1) who devloped python programming language?\n",
    "\n",
    "Ans : Guido van Rossum was create python programming language and released in 1991."
   ]
  },
  {
   "cell_type": "markdown",
   "id": "b1f5540f-25e3-4918-a74f-e85b85b045ca",
   "metadata": {},
   "source": [
    "2) which type of programming does python support?\n",
    "\n",
    "Ans : Python is a multi-paradigm programming language. Object-oriented programming and structured programming are         fully supported, and many of their features support functional programming and aspect-oriented programming         (including metaprogramming and metaobjects)."
   ]
  },
  {
   "cell_type": "markdown",
   "id": "83fc596b-9422-4d61-b1e3-62acab301e7f",
   "metadata": {},
   "source": [
    "3) Is python case sensitive when dealing with identifier?\n",
    "\n",
    "Ans : yes, Python is a case-sensitive language."
   ]
  },
  {
   "cell_type": "markdown",
   "id": "6e526bf9-33b5-4f36-8b1d-4712f8c54e4a",
   "metadata": {},
   "source": [
    "4) What are correct extension of python file?\n",
    "\n",
    "Ans: .py "
   ]
  },
  {
   "cell_type": "markdown",
   "id": "2a4c4bf6-2f8c-4ef8-a539-be600958779a",
   "metadata": {},
   "source": [
    "5) Is python code compiled or interpreted ?\n",
    "\n",
    "Ans : Python is an interpreted language, which means the source code of a Python program is converted into bytecode       that is then executed by the Python virtual machine"
   ]
  },
  {
   "cell_type": "markdown",
   "id": "a2be9789-b020-412a-8e32-7005303709cb",
   "metadata": {},
   "source": [
    "6) Name few block of code used to define in python language?\n",
    "\n",
    "Ans : Indentation is used to define a block of code in python. Braces {} are used to define a block of code in most       programming languages, like C, C++, and Java. But this indentation makes python unique among all programming       languages."
   ]
  },
  {
   "cell_type": "markdown",
   "id": "ba97ef47-2d23-4f6c-b5bf-b922b2949c4b",
   "metadata": {},
   "source": [
    "7) State a character used to give single line comment in python?\n",
    "\n",
    "Ans : #"
   ]
  },
  {
   "cell_type": "markdown",
   "id": "b9193a02-e8e1-450a-9b93-beb2dd3b25a3",
   "metadata": {},
   "source": [
    "8) Mention a function which can help us find version of python that we currently working on?\n",
    "\n",
    "Ans : The function sys.version can help us to find the version of python that we are currently working on.\n"
   ]
  },
  {
   "cell_type": "code",
   "execution_count": 1,
   "id": "9bb12cf6-5a78-4a0c-9275-cddd2742518d",
   "metadata": {},
   "outputs": [
    {
     "name": "stdout",
     "output_type": "stream",
     "text": [
      "3.10.8 | packaged by conda-forge | (main, Nov 22 2022, 08:26:04) [GCC 10.4.0]\n"
     ]
    }
   ],
   "source": [
    "# Check the Python Version\n",
    "\n",
    "import sys\n",
    "print(sys.version)"
   ]
  },
  {
   "cell_type": "markdown",
   "id": "c4a78dee-cf6e-4c43-b204-381762007bec",
   "metadata": {},
   "source": [
    "9) Python suppoet a creation of anonymous function at a run time using constuctor is called .....\n",
    "\n",
    "Ans : lamda"
   ]
  },
  {
   "cell_type": "markdown",
   "id": "074204f9-afe9-49eb-a9e2-b91b6535aba7",
   "metadata": {},
   "source": [
    "10) What does pip stand for python?\n",
    "\n",
    "Ans: pip stands for \"preferred installer program\" and\n",
    "     PIP is a package manager for Python packages"
   ]
  },
  {
   "cell_type": "markdown",
   "id": "b559f5ae-0a20-4240-a529-f6aba5b63534",
   "metadata": {},
   "source": [
    "11) Mention some buid in function in python?\n",
    "\n",
    "Ans : type()\n",
    "      len()\n",
    "      print()\n",
    "      sum()\n",
    "      help()\n",
    "      power()\n",
    "      abs()  And many more..\n"
   ]
  },
  {
   "cell_type": "markdown",
   "id": "c65b242e-f77e-4d6b-b511-1727a65e3fba",
   "metadata": {},
   "source": [
    "12) What is maximum length of identifier in python?\n",
    "\n",
    "Ans :  identifier can have a maximum length of 79 characters in Python. "
   ]
  },
  {
   "cell_type": "markdown",
   "id": "7eea222a-0ccb-4030-bbe7-fd5e4c431f93",
   "metadata": {},
   "source": [
    "13) What are benifit using python?\n",
    "\n",
    "Ans : Extensive support libraries(NumPy for numerical calculations, Pandas for data analytics, etc.) \n",
    "    : Open source and large active community base \n",
    "    : Object-Oriented and Procedural  Programming language\n",
    "    : Interpreted Language\n",
    "    : Dynamically typed language(No need to mention data type based on the value assigned, it takes data type) \n",
    "    : Portable and Interactive\n"
   ]
  },
  {
   "cell_type": "markdown",
   "id": "a1767718-9c92-42cd-a56a-bc645dac24c5",
   "metadata": {},
   "source": [
    "14) How is memory manage in python ?\n",
    "\n",
    "Ans: Memory management in Python involves a private heap containing all Python objects and data structures. The          management of this private heap is ensured internally by the Python memory manager."
   ]
  },
  {
   "cell_type": "markdown",
   "id": "75a5dd41-2232-49f2-9367-0f1ab988739a",
   "metadata": {},
   "source": [
    "15) How to install python on windows and set path variable?\n",
    "\n",
    "Ans : The complete path of python.exe can be added by:\n",
    "\n",
    "     1)Right-clicking This PC and going to Properties.\n",
    "\n",
    "     2)Clicking on the Advanced system settings in the menu on the left.\n",
    "\n",
    "     3)Clicking on the Environment Variables button o​n the bottom right.\n",
    "\n",
    "     4)In the System variables section, selecting the Path variable and clicking on Edit. The next screen will show        all the directories that are currently a part of the PATH variable.\n",
    "\n",
    "     5)Clicking on New and entering Python’s install directory.\n",
    "    \n",
    "    Python can now be used directly from the command prompt without having to write its location. Try executing the     command python --version; it will output the version of Python installed on your system."
   ]
  },
  {
   "cell_type": "markdown",
   "id": "1ca1bf3e-2eff-4dad-b95f-541c6c895e97",
   "metadata": {},
   "source": [
    "16) Is indentation required in python?\n",
    "\n",
    "Ans: yes,\n",
    "     Indentation refers to the spaces at the beginning of a code line. Where in other programming languages the use      of indentation in code is for readability only, the indentation in Python is very important. Python uses            indentation to indicate a block of code."
   ]
  }
 ],
 "metadata": {
  "kernelspec": {
   "display_name": "Python 3 (ipykernel)",
   "language": "python",
   "name": "python3"
  },
  "language_info": {
   "codemirror_mode": {
    "name": "ipython",
    "version": 3
   },
   "file_extension": ".py",
   "mimetype": "text/x-python",
   "name": "python",
   "nbconvert_exporter": "python",
   "pygments_lexer": "ipython3",
   "version": "3.10.8"
  }
 },
 "nbformat": 4,
 "nbformat_minor": 5
}

{
 "cells": [
  {
   "cell_type": "markdown",
   "id": "9fea560f-ea25-46e5-80ce-238eb0b4aa9a",
   "metadata": {},
   "source": [
    "Q1. What is Abstraction in OOps? Explain with an example."
   ]
  },
  {
   "cell_type": "code",
   "execution_count": 1,
   "id": "4e7b212a-880c-4dde-9407-bfb4065ef0df",
   "metadata": {},
   "outputs": [
    {
     "name": "stdout",
     "output_type": "stream",
     "text": [
      "10.0\n"
     ]
    }
   ],
   "source": [
    "class Shape:\n",
    "    def __init__(self, sides):\n",
    "        self.sides = sides\n",
    "\n",
    "    def calculate_area(self):\n",
    "        pass\n",
    "\n",
    "class Triangle(Shape):\n",
    "    def __init__(self, sides, base, height):\n",
    "        super().__init__(sides)\n",
    "        self.base = base\n",
    "        self.height = height\n",
    "\n",
    "    def calculate_area(self):\n",
    "        return 0.5 * self.base * self.height\n",
    "\n",
    "tri = Triangle(3, 4, 5)\n",
    "print(tri.calculate_area())\n"
   ]
  },
  {
   "cell_type": "markdown",
   "id": "8ead01f4-150d-4567-a729-10955ce87f49",
   "metadata": {},
   "source": [
    "Q2. Differentiate between Abstraction and Encapsulation. Explain with an example."
   ]
  },
  {
   "cell_type": "markdown",
   "id": "6ec3e99b-8bd4-4381-beb0-c87335090619",
   "metadata": {},
   "source": [
    "Abstraction and Encapsulation are two fundamental concepts in object-oriented programming (OOP) and are closely related. However, they have distinct differences:\n",
    "\n",
    "> Abstraction: It is the process of hiding the implementation details and showing only the necessary information to the user. It helps to reduce complexity and improve the readability of the code by hiding unnecessary details from the user. In other words, abstraction is the process of displaying only the essential features of an object, ignoring the non-essential details.\n",
    "\n",
    "Example: Consider a TV remote control, where a user only needs to know the basic buttons to operate the TV, such as power on/off, volume up/down, channel up/down, etc. The user does not need to know the internal workings of the remote control or the TV. This is an example of abstraction, where only the necessary information is provided to the user.\n",
    "\n",
    "> Encapsulation: It is the mechanism of wrapping data and functions within a single unit, or object. It provides protection to the data and helps to prevent accidental modification to it. Encapsulation allows an object to hide its internal data and behavior, and exposes only a public interface to interact with it.\n",
    "\n",
    "Example: Consider a bank account, where a user can deposit, withdraw, and check the balance. The internal details of the bank account, such as the calculation of interest, the method of storing account details, etc., are hidden from the user and are encapsulated within the object. The user can interact with the bank account only through the provided interface.\n",
    "\n",
    "In conclusion, Abstraction and Encapsulation are two important concepts in object-oriented programming that work together to provide a clear and concise interface for the user while hiding the implementation details of the object.\n",
    "\n",
    "\n"
   ]
  },
  {
   "cell_type": "code",
   "execution_count": 2,
   "id": "fff13e3e-d4e6-49c6-8f79-db731dc3c678",
   "metadata": {},
   "outputs": [
    {
     "name": "stdout",
     "output_type": "stream",
     "text": [
      "Name:  Jessa Salary: 8000\n",
      "Jessa is working on NLP\n"
     ]
    }
   ],
   "source": [
    "class Employee:\n",
    "    # constructor\n",
    "    def __init__(self, name, salary, project):\n",
    "        # data members\n",
    "        self.name = name\n",
    "        self.salary = salary\n",
    "        self.project = project\n",
    "\n",
    "    # method\n",
    "    # to display employee's details\n",
    "    def show(self):\n",
    "        # accessing public data member\n",
    "        print(\"Name: \", self.name, 'Salary:', self.salary)\n",
    "\n",
    "    # method\n",
    "    def work(self):\n",
    "        print(self.name, 'is working on', self.project)\n",
    "\n",
    "# creating object of a class\n",
    "emp = Employee('Jessa', 8000, 'NLP')\n",
    "\n",
    "# calling public method of the class\n",
    "emp.show()\n",
    "emp.work()"
   ]
  },
  {
   "cell_type": "markdown",
   "id": "b3ce69ab-932c-418b-8072-1f3924c42a6e",
   "metadata": {},
   "source": [
    ">> Q3. What is abc module in python? Why is it used?"
   ]
  },
  {
   "cell_type": "markdown",
   "id": "f3d1852b-b691-444a-ac92-1db18cc74668",
   "metadata": {},
   "source": [
    "he \"abc\" (Abstract Base Class) module in Python is used to define abstract base classes, which provide a way to specify a common interface for a set of related objects. An abstract base class is a class that cannot be instantiated on its own, but it can be subclassed. Subclasses of an abstract base class must implement the abstract methods defined by the abstract base class, otherwise they will also become abstract classes and cannot be instantiated.\n",
    "\n",
    "The \"abc\" module was introduced in Python 2.7 as a way to provide abstract base classes in a more convenient and Pythonic way. It provides a set of decorators and base classes that make it easier to define abstract classes and to check if a class is an instance of an abstract base class.\n",
    "\n",
    "The \"abc\" module is particularly useful when working with objects that should have a common interface but different implementations. For example, when working with different shapes, it is possible to define an abstract base class for shapes that provides the methods to calculate the area and perimeter. Subclasses of this abstract base class can then implement the methods for specific shapes, such as rectangles and circles.\n",
    "\n",
    "In summary, the \"abc\" module in Python provides a way to define abstract base classes, which provide a common interface for a set of related objects, and enforce the implementation of that interface by its subclasses.\n",
    "\n",
    "\n"
   ]
  },
  {
   "cell_type": "markdown",
   "id": "7f0788f1-da6f-4c8c-a9e6-bba7a1019455",
   "metadata": {},
   "source": [
    ">>Q4. How can we achieve data abstraction?"
   ]
  },
  {
   "cell_type": "markdown",
   "id": "5ced59ce-0063-4b8a-a269-38b2a2eb74ac",
   "metadata": {},
   "source": [
    "Data abstraction is achieved in several ways in computer programming, including:\n",
    "\n",
    "Classes and objects: In object-oriented programming (OOP), data abstraction is achieved through classes and objects. A class is a blueprint that defines the structure and behavior of an object, while an object is an instance of a class. Classes can hide the implementation details of an object, making it possible to abstract the data and expose only the necessary information to the user.\n",
    "\n",
    "Interfaces: An interface is a contract between the implementation and the client, specifying the methods that the implementation must provide. Interfaces allow the implementation to change without affecting the client, as long as the interface remains the same.\n",
    "\n",
    "Modules: In programming, modules provide a way to organize code into separate, reusable units. By encapsulating code in modules, it is possible to abstract the implementation details and expose only the necessary information to the user.\n",
    "\n",
    "Data structures: Data structures, such as arrays, linked lists, trees, and graphs, provide a way to organize and store data in a structured manner. By using data structures, it is possible to abstract the implementation details of the data and expose only the necessary information to the user."
   ]
  },
  {
   "cell_type": "markdown",
   "id": "3185f653-eccf-4342-9134-ed9a71eac902",
   "metadata": {},
   "source": [
    ">> Q5. Can we create an instance of an abstract class? Explain your answer."
   ]
  },
  {
   "cell_type": "markdown",
   "id": "14f26bd7-7422-4e76-a3cc-a5e014fe2c7b",
   "metadata": {},
   "source": [
    "No, you cannot create an instance of an abstract class in most programming languages, including Python. An abstract class is a class that cannot be instantiated on its own, but it can be subclassed. The purpose of an abstract class is to define a common interface for a set of related objects, but it does not provide a complete implementation on its own. Subclasses of an abstract class must provide the implementation of the abstract methods defined by the abstract class."
   ]
  },
  {
   "cell_type": "code",
   "execution_count": null,
   "id": "7360efb1-d6fd-45da-a8ed-cb75050c2172",
   "metadata": {},
   "outputs": [],
   "source": []
  }
 ],
 "metadata": {
  "kernelspec": {
   "display_name": "Python 3 (ipykernel)",
   "language": "python",
   "name": "python3"
  },
  "language_info": {
   "codemirror_mode": {
    "name": "ipython",
    "version": 3
   },
   "file_extension": ".py",
   "mimetype": "text/x-python",
   "name": "python",
   "nbconvert_exporter": "python",
   "pygments_lexer": "ipython3",
   "version": "3.10.8"
  }
 },
 "nbformat": 4,
 "nbformat_minor": 5
}

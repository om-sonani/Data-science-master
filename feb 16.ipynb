{
 "cells": [
  {
   "cell_type": "markdown",
   "id": "a43ed257-0c61-4b43-bb00-621ead1d4546",
   "metadata": {},
   "source": [
    ">Q1. What is a database? Differentiate between SQL and NoSQL databases."
   ]
  },
  {
   "cell_type": "markdown",
   "id": "15a8d9c8-c8e9-4b40-8c93-9d9b58a0bb83",
   "metadata": {},
   "source": [
    "A database is a structured collection of data that is stored and managed on a computer. Databases are used to organize, store, and retrieve large amounts of data efficiently and with minimal redundancy. There are two main types of databases: SQL and NoSQL."
   ]
  },
  {
   "cell_type": "markdown",
   "id": "8d207c9a-4afd-451a-92c0-28d0f35252a2",
   "metadata": {},
   "source": [
    "In summary, the key differences between SQL and NoSQL databases are:\n",
    "\n",
    "SQL databases are relational, while NoSQL databases are non-relational.\n",
    "SQL databases use tables to store data, while NoSQL databases use a variety of data models.\n",
    "SQL databases use a schema to define the structure of the data, while NoSQL databases have flexible schemas or no schema at all.\n",
    "SQL databases are used for structured data, while NoSQL databases are used for unstructured or semi-structured data."
   ]
  },
  {
   "cell_type": "code",
   "execution_count": null,
   "id": "ce0faba3-784e-44fc-950f-62dce518374c",
   "metadata": {},
   "outputs": [],
   "source": []
  },
  {
   "cell_type": "markdown",
   "id": "cf594e13-0e20-4270-b2de-22ed8ebb57cb",
   "metadata": {},
   "source": [
    ">Q2. What is DDL? Explain why CREATE, DROP, ALTER, and TRUNCATE are used with an example."
   ]
  },
  {
   "cell_type": "markdown",
   "id": "222d661b-981b-4fd9-8737-5b9db5953ce2",
   "metadata": {},
   "source": [
    "DDL stands for Data Definition Language, and it is a set of SQL commands that are used to define and modify the structure of database objects such as tables, indexes, and views. DDL commands are used to create, modify, and delete database objects."
   ]
  },
  {
   "cell_type": "markdown",
   "id": "35d0d3f3-f3d0-4702-b75c-cd7c29a4ed88",
   "metadata": {},
   "source": [
    ">>CREATE: The CREATE command is used to create a new database object, such as a table, view, or index. For example, to create a new table named \"Customers\" with columns for customer ID, name, and email, you would use the following SQL command:"
   ]
  },
  {
   "cell_type": "markdown",
   "id": "57cb1772-5103-49e1-901f-d66208e775b7",
   "metadata": {},
   "source": [
    "CREATE TABLE Customers (\n",
    "    CustomerID INT PRIMARY KEY,\n",
    "    Name VARCHAR(50),\n",
    "    Email VARCHAR(100)\n",
    ");\n"
   ]
  },
  {
   "cell_type": "markdown",
   "id": "e4fc51f2-e9e4-4ad8-af02-431d858e2683",
   "metadata": {},
   "source": [
    ">> DROP: The DROP command is used to remove a database object, such as a table, view, or index. For example, to drop the \"Customers\" table, you would use the following SQL command:"
   ]
  },
  {
   "cell_type": "markdown",
   "id": "f1e797f5-593f-4c9b-a01a-3321a0319029",
   "metadata": {},
   "source": [
    "DROP TABLE Customers;\n"
   ]
  },
  {
   "cell_type": "markdown",
   "id": "bc044bd9-bb0f-4c3a-b87b-5ee3b8665e0d",
   "metadata": {},
   "source": [
    ">>ALTER: The ALTER command is used to modify the structure of a database object, such as adding, modifying, or deleting columns in a table. For example, to add a new column for \"Phone\" to the \"Customers\" table, you would use the following SQL command:"
   ]
  },
  {
   "cell_type": "markdown",
   "id": "0085210e-0c0f-44c2-ab01-6c3905d0649e",
   "metadata": {},
   "source": [
    "ALTER TABLE Customers\n",
    "ADD Phone VARCHAR(20);\n"
   ]
  },
  {
   "cell_type": "markdown",
   "id": "96699905-5e73-4f76-99af-f945d2812151",
   "metadata": {},
   "source": [
    ">>TRUNCATE: The TRUNCATE command is used to delete all data from a table, while keeping the structure of the table intact. For example, to delete all data from the \"Customers\" table, you would use the following SQL command:"
   ]
  },
  {
   "cell_type": "markdown",
   "id": "8c4d3e34-bb80-4d49-84af-c0c3aff6d7b8",
   "metadata": {},
   "source": [
    "TRUNCATE TABLE Customers;\n"
   ]
  },
  {
   "cell_type": "code",
   "execution_count": null,
   "id": "23a88c45-e047-491c-88cc-d99bdb525a6e",
   "metadata": {},
   "outputs": [],
   "source": []
  },
  {
   "cell_type": "markdown",
   "id": "c6efc4a8-05ed-4cfa-9d61-a6c62150a4c4",
   "metadata": {},
   "source": [
    ">Q3. What is DML? Explain INSERT, UPDATE, and DELETE with an example."
   ]
  },
  {
   "cell_type": "markdown",
   "id": "72dea429-8aeb-4738-aa7a-000bfea697fa",
   "metadata": {},
   "source": [
    "DML stands for Data Manipulation Language, which is a subset of SQL (Structured Query Language) used to interact with and manipulate data in a database."
   ]
  },
  {
   "cell_type": "markdown",
   "id": "86ffde67-23a1-43c4-8ba1-6734d51d44ef",
   "metadata": {},
   "source": [
    ">>INSERT: The INSERT statement is used to add new data to a table. The basic syntax is as follows:"
   ]
  },
  {
   "cell_type": "markdown",
   "id": "668a07fa-6b8d-45f5-b401-ec5ac0f22efd",
   "metadata": {},
   "source": [
    "INSERT INTO students (name, age, grade)\n",
    "VALUES ('John Doe', 18, 'A');\n"
   ]
  },
  {
   "cell_type": "markdown",
   "id": "b8dd4dd5-226b-467c-9fb5-09bba70344cf",
   "metadata": {},
   "source": [
    ">>UPDATE: The UPDATE statement is used to modify existing data in a table. The basic syntax is as follows:"
   ]
  },
  {
   "cell_type": "markdown",
   "id": "cc393755-0d5c-4cdb-980b-e42204c6048b",
   "metadata": {},
   "source": [
    "UPDATE students\n",
    "SET age = 19\n",
    "WHERE name = 'John Doe';\n"
   ]
  },
  {
   "cell_type": "markdown",
   "id": "243da63e-26f1-4b09-b7e0-606b9a6be4d7",
   "metadata": {},
   "source": [
    ">>DELETE: The DELETE statement is used to remove data from a table. The basic syntax is as follows:"
   ]
  },
  {
   "cell_type": "markdown",
   "id": "e3aaedcf-fec3-4278-a2d1-6af122a23ea3",
   "metadata": {},
   "source": [
    "DELETE FROM students\n",
    "WHERE grade <> '11th';\n"
   ]
  },
  {
   "cell_type": "code",
   "execution_count": null,
   "id": "476892e4-fd77-44fd-8f33-1ef043dfd649",
   "metadata": {},
   "outputs": [],
   "source": []
  },
  {
   "cell_type": "markdown",
   "id": "44015b23-fda2-4387-9dd9-d88dc9c5bb10",
   "metadata": {},
   "source": [
    ">Q4. What is DQL? Explain SELECT with an example."
   ]
  },
  {
   "cell_type": "markdown",
   "id": "00007735-b523-4679-9a98-10a62c46347d",
   "metadata": {},
   "source": [
    "DQL stands for Data Query Language, which is a subset of SQL (Structured Query Language) used to retrieve and query data from a database.\n",
    "\n",
    "The most commonly used DQL statement is SELECT, which is used to retrieve data from one or more tables in a database. The basic syntax of a SELECT statement is as follows:"
   ]
  },
  {
   "cell_type": "code",
   "execution_count": null,
   "id": "8afd184c-361a-43ec-9301-431bb0d9871a",
   "metadata": {},
   "outputs": [],
   "source": [
    "SELECT column1, column2, ...\n",
    "FROM table_name\n",
    "WHERE condition;\n"
   ]
  },
  {
   "cell_type": "code",
   "execution_count": null,
   "id": "b254169d-b5a4-4582-ad48-42499a432de8",
   "metadata": {},
   "outputs": [],
   "source": [
    "SELECT name, salary\n",
    "FROM employees\n",
    "WHERE department = 'marketing';\n"
   ]
  },
  {
   "cell_type": "code",
   "execution_count": null,
   "id": "fe0ba443-621d-46c6-8ba9-72e9f62b11de",
   "metadata": {},
   "outputs": [],
   "source": []
  },
  {
   "cell_type": "markdown",
   "id": "12bc630c-1731-46b2-bd09-235a68f333fa",
   "metadata": {},
   "source": [
    ">Q5. Explain Primary Key and Foreign Key."
   ]
  },
  {
   "cell_type": "raw",
   "id": "a727938c-2d05-4c8e-a922-d491bc64037e",
   "metadata": {},
   "source": [
    ">> A primary key is a column or set of columns in a table that uniquely identifies each row or record in the table. A primary key cannot contain null values, and no two rows in the table can have the same primary key value.\n",
    "\n",
    "For example, let's say we have a table named \"students\" with the following columns: \"id\", \"name\", \"age\", and \"grade\". We could make \"id\" the primary key for the \"students\" table, like this:"
   ]
  },
  {
   "cell_type": "code",
   "execution_count": null,
   "id": "28bd6ea1-1e28-464b-b788-495f2751e9a1",
   "metadata": {},
   "outputs": [],
   "source": [
    "CREATE TABLE students (\n",
    "    id INT PRIMARY KEY,\n",
    "    name VARCHAR(50),\n",
    "    age INT,\n",
    "    grade VARCHAR(2)\n",
    ");\n"
   ]
  },
  {
   "cell_type": "raw",
   "id": "cc060c03-ee6e-44c8-9e3a-9809ca82ee29",
   "metadata": {},
   "source": [
    ">> A foreign key, on the other hand, is a column or set of columns in a table that refers to the primary key of another table. The purpose of a foreign key is to create a relationship between two tables.\n",
    "\n",
    "For example, let's say we have another table named \"grades\" with the following columns: \"id\" and \"letter_grade\". We could create a foreign key in the \"students\" table that refers to the \"id\" column in the \"grades\" table, like this:"
   ]
  },
  {
   "cell_type": "code",
   "execution_count": null,
   "id": "f2ade71a-a1f6-4528-a0e4-ea46842256da",
   "metadata": {},
   "outputs": [],
   "source": [
    "CREATE TABLE students (\n",
    "    id INT PRIMARY KEY,\n",
    "    name VARCHAR(50),\n",
    "    age INT,\n",
    "    grade_id INT,\n",
    "    FOREIGN KEY (grade_id) REFERENCES grades(id)\n",
    ");\n",
    "\n",
    "CREATE TABLE grades (\n",
    "    id INT PRIMARY KEY,\n",
    "    letter_grade VARCHAR(2)\n",
    ");\n"
   ]
  },
  {
   "cell_type": "code",
   "execution_count": null,
   "id": "3a663363-66e7-4aeb-bfe1-b31c4ea938c1",
   "metadata": {},
   "outputs": [],
   "source": []
  },
  {
   "cell_type": "markdown",
   "id": "8ff467fb-6525-4d5d-9f47-484a36ff44f5",
   "metadata": {},
   "source": [
    ">Q6. Write a python code to connect MySQL to python. Explain the cursor() and execute() method."
   ]
  },
  {
   "cell_type": "code",
   "execution_count": null,
   "id": "cd765b0c-c443-4721-a6c5-9d11804a2f77",
   "metadata": {},
   "outputs": [],
   "source": [
    "import mysql.connector\n",
    "\n",
    "# establish a connection to the database\n",
    "mydb = mysql.connector.connect(\n",
    "  host=\"localhost\",\n",
    "  user=\"username\",\n",
    "  password=\"password\",\n",
    "  database=\"databasename\"\n",
    ")\n",
    "\n",
    "# create a cursor object\n",
    "mycursor = mydb.cursor()\n",
    "\n",
    "# execute a query\n",
    "mycursor.execute(\"SELECT * FROM mytable\")\n",
    "\n",
    "# get the results of the query\n",
    "myresult = mycursor.fetchall()\n",
    "\n",
    "# print the results\n",
    "for row in myresult:\n",
    "  print(row)\n"
   ]
  },
  {
   "cell_type": "code",
   "execution_count": null,
   "id": "5f62d424-292d-464e-9a35-44f5e6d7d4a3",
   "metadata": {},
   "outputs": [],
   "source": []
  },
  {
   "cell_type": "markdown",
   "id": "c244ed94-f3bf-4868-9319-7372ede21885",
   "metadata": {},
   "source": [
    ">Q7. Give the order of execution of SQL clauses in an SQL query."
   ]
  },
  {
   "cell_type": "raw",
   "id": "f67c5d1f-3e8f-4e23-ba12-c2bba0fd5778",
   "metadata": {},
   "source": [
    "The order of execution of SQL clauses in an SQL query is as follows:\n",
    "\n",
    "FROM: This clause specifies the table or tables from which the data is to be retrieved.\n",
    "\n",
    "JOIN: This clause is used to combine two or more tables based on a common column.\n",
    "\n",
    "WHERE: This clause is used to filter the data based on one or more conditions.\n",
    "\n",
    "GROUP BY: This clause is used to group the data based on one or more columns.\n",
    "\n",
    "HAVING: This clause is used to filter the groups based on one or more conditions.\n",
    "\n",
    "SELECT: This clause is used to select the columns to be included in the result set.\n",
    "\n",
    "DISTINCT: This clause is used to remove duplicates from the result set.\n",
    "\n",
    "ORDER BY: This clause is used to sort the result set based on one or more columns.\n",
    "\n",
    "LIMIT: This clause is used to limit the number of rows returned by the query.\n",
    "\n"
   ]
  }
 ],
 "metadata": {
  "kernelspec": {
   "display_name": "Python 3 (ipykernel)",
   "language": "python",
   "name": "python3"
  },
  "language_info": {
   "codemirror_mode": {
    "name": "ipython",
    "version": 3
   },
   "file_extension": ".py",
   "mimetype": "text/x-python",
   "name": "python",
   "nbconvert_exporter": "python",
   "pygments_lexer": "ipython3",
   "version": "3.10.8"
  }
 },
 "nbformat": 4,
 "nbformat_minor": 5
}

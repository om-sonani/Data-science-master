{
 "cells": [
  {
   "cell_type": "markdown",
   "id": "b159111a-2b96-4c3d-bba4-2037f5a33e4e",
   "metadata": {},
   "source": [
    "> Q1. Create a Pandas Series that contains the following data: 4, 8, 15, 16, 23, and 42. Then, print the series."
   ]
  },
  {
   "cell_type": "code",
   "execution_count": 2,
   "id": "606cde1f-bc03-43c8-bcad-b1b2dfb3c6a4",
   "metadata": {},
   "outputs": [],
   "source": [
    "import pandas as pd\n",
    "data=[4,8,15,16,23,42]\n",
    "pf=pd.Series(data)"
   ]
  },
  {
   "cell_type": "code",
   "execution_count": 3,
   "id": "8f9c383d-ec2e-4528-851b-17ee8fe590e6",
   "metadata": {},
   "outputs": [
    {
     "name": "stdout",
     "output_type": "stream",
     "text": [
      "0     4\n",
      "1     8\n",
      "2    15\n",
      "3    16\n",
      "4    23\n",
      "5    42\n",
      "dtype: int64\n"
     ]
    }
   ],
   "source": [
    "print(pf)"
   ]
  },
  {
   "cell_type": "markdown",
   "id": "719b3e71-7320-4792-aab6-5f0b4685d857",
   "metadata": {},
   "source": [
    ">Q2. Create a variable of list type containing 10 elements in it, and apply pandas.Series function on the\n",
    "variable print it."
   ]
  },
  {
   "cell_type": "code",
   "execution_count": 4,
   "id": "8990e634-bcd0-4719-8997-401d02fdbe2c",
   "metadata": {},
   "outputs": [
    {
     "name": "stdout",
     "output_type": "stream",
     "text": [
      "0     1\n",
      "1     2\n",
      "2     3\n",
      "3     4\n",
      "4     5\n",
      "5     6\n",
      "6     7\n",
      "7     8\n",
      "8     9\n",
      "9    10\n",
      "dtype: int64\n"
     ]
    }
   ],
   "source": [
    "import pandas as pd\n",
    "\n",
    "my_list = [1, 2, 3, 4, 5, 6, 7, 8, 9, 10]\n",
    "my_series = pd.Series(my_list)\n",
    "\n",
    "print(my_series)"
   ]
  },
  {
   "cell_type": "code",
   "execution_count": 5,
   "id": "c005f213-7f34-436e-bd45-a9c9c753b61d",
   "metadata": {},
   "outputs": [
    {
     "data": {
      "text/plain": [
       "pandas.core.series.Series"
      ]
     },
     "execution_count": 5,
     "metadata": {},
     "output_type": "execute_result"
    }
   ],
   "source": [
    "type(my_series)"
   ]
  },
  {
   "cell_type": "markdown",
   "id": "0d448369-369a-436b-b231-b8bf32755260",
   "metadata": {},
   "source": [
    ">Q3. Create a Pandas DataFrame"
   ]
  },
  {
   "cell_type": "code",
   "execution_count": 9,
   "id": "ae66109a-246e-4c3c-b447-48453bb13ba3",
   "metadata": {},
   "outputs": [
    {
     "name": "stdout",
     "output_type": "stream",
     "text": [
      "     name  age gender\n",
      "0   alice    2      f\n",
      "1     bob   30      m\n",
      "2  claire   37      f\n"
     ]
    }
   ],
   "source": [
    "import pandas as pd\n",
    "data={'name':['alice','bob','claire'],\n",
    "     'age':[2,30,37],\n",
    "     'gender':['f','m','f']}\n",
    "data_frame=pd.DataFrame(data)\n",
    "print(dataframe)"
   ]
  },
  {
   "cell_type": "code",
   "execution_count": 10,
   "id": "a1025f5b-e037-40cb-a52b-04e2ec5b00e4",
   "metadata": {},
   "outputs": [
    {
     "data": {
      "text/plain": [
       "pandas.core.frame.DataFrame"
      ]
     },
     "execution_count": 10,
     "metadata": {},
     "output_type": "execute_result"
    }
   ],
   "source": [
    "type(data_frame)"
   ]
  },
  {
   "cell_type": "markdown",
   "id": "5563ae98-3042-4dcd-85b1-f8fe3d19b3fb",
   "metadata": {},
   "source": [
    ">Q4. What is ‘DataFrame’ in pandas and how is it different from pandas.series? Explain with an example."
   ]
  },
  {
   "cell_type": "markdown",
   "id": "e556cb5f-e3f3-4fed-924a-5fa7b485934f",
   "metadata": {},
   "source": [
    "--> The main difference between a DataFrame and a Series is that a DataFrame is a 2-dimensional structure, while a Series is a 1-dimensional structure. A DataFrame contains multiple Series objects arranged in columns, while a Series contains a single column of data."
   ]
  },
  {
   "cell_type": "code",
   "execution_count": 11,
   "id": "08f6b270-8634-4181-bf7c-e7e3a114dafc",
   "metadata": {},
   "outputs": [
    {
     "name": "stdout",
     "output_type": "stream",
     "text": [
      "      name  age country\n",
      "0    Alice   25     USA\n",
      "1      Bob   30  Canada\n",
      "2  Charlie   35  France\n",
      "3     Dave   40      UK\n",
      "\n",
      "\n",
      "0    25\n",
      "1    30\n",
      "2    35\n",
      "3    40\n",
      "Name: age, dtype: int64\n"
     ]
    }
   ],
   "source": [
    "import pandas as pd\n",
    "\n",
    "# create a dictionary of data\n",
    "data = {'name': ['Alice', 'Bob', 'Charlie', 'Dave'],\n",
    "        'age': [25, 30, 35, 40],\n",
    "        'country': ['USA', 'Canada', 'France', 'UK']}\n",
    "\n",
    "# create a DataFrame from the dictionary\n",
    "df = pd.DataFrame(data)\n",
    "\n",
    "# create a Series from a column of the DataFrame\n",
    "ages = df['age']\n",
    "\n",
    "print(df)\n",
    "print('\\n')\n",
    "print(ages)\n"
   ]
  },
  {
   "cell_type": "markdown",
   "id": "14821531-d070-4cc9-8090-cbe3c2cbb92e",
   "metadata": {},
   "source": [
    ">Q5. What are some common functions you can use to manipulate data in a Pandas DataFrame? Can\n",
    "you give an example of when you might use one of these functions?"
   ]
  },
  {
   "cell_type": "markdown",
   "id": "12e79ce1-7b81-4a3d-b47f-4eea093a904d",
   "metadata": {},
   "source": [
    "--> head(),tail(),sort_values(),pivot_table(),merge() etc.."
   ]
  },
  {
   "cell_type": "code",
   "execution_count": 13,
   "id": "3fcaa500-2868-4813-a0e7-4f3367bda5cd",
   "metadata": {},
   "outputs": [
    {
     "name": "stdout",
     "output_type": "stream",
     "text": [
      "                      title  year  rating\n",
      "0             The Godfather  1972     9.2\n",
      "1  The Shawshank Redemption  1994     9.3\n",
      "3              Forrest Gump  1994     8.8\n",
      "2           The Dark Knight  2008     9.0\n"
     ]
    }
   ],
   "source": [
    "import pandas as pd\n",
    "\n",
    "# create a DataFrame of movies\n",
    "data = {'title': ['The Godfather', 'The Shawshank Redemption', 'The Dark Knight', 'Forrest Gump'],\n",
    "        'year': [1972, 1994, 2008, 1994],\n",
    "        'rating': [9.2, 9.3, 9.0, 8.8]}\n",
    "df = pd.DataFrame(data)\n",
    "\n",
    "# sort the DataFrame by year\n",
    "sorted_df = df.sort_values('year')\n",
    "\n",
    "print(sorted_df)\n"
   ]
  },
  {
   "cell_type": "code",
   "execution_count": 14,
   "id": "e57cf349-7d36-4538-9ad9-4fd507cbc511",
   "metadata": {},
   "outputs": [
    {
     "data": {
      "text/html": [
       "<div>\n",
       "<style scoped>\n",
       "    .dataframe tbody tr th:only-of-type {\n",
       "        vertical-align: middle;\n",
       "    }\n",
       "\n",
       "    .dataframe tbody tr th {\n",
       "        vertical-align: top;\n",
       "    }\n",
       "\n",
       "    .dataframe thead th {\n",
       "        text-align: right;\n",
       "    }\n",
       "</style>\n",
       "<table border=\"1\" class=\"dataframe\">\n",
       "  <thead>\n",
       "    <tr style=\"text-align: right;\">\n",
       "      <th></th>\n",
       "      <th>title</th>\n",
       "      <th>year</th>\n",
       "      <th>rating</th>\n",
       "    </tr>\n",
       "  </thead>\n",
       "  <tbody>\n",
       "    <tr>\n",
       "      <th>0</th>\n",
       "      <td>The Godfather</td>\n",
       "      <td>1972</td>\n",
       "      <td>9.2</td>\n",
       "    </tr>\n",
       "    <tr>\n",
       "      <th>1</th>\n",
       "      <td>The Shawshank Redemption</td>\n",
       "      <td>1994</td>\n",
       "      <td>9.3</td>\n",
       "    </tr>\n",
       "  </tbody>\n",
       "</table>\n",
       "</div>"
      ],
      "text/plain": [
       "                      title  year  rating\n",
       "0             The Godfather  1972     9.2\n",
       "1  The Shawshank Redemption  1994     9.3"
      ]
     },
     "execution_count": 14,
     "metadata": {},
     "output_type": "execute_result"
    }
   ],
   "source": [
    "df.head(2)"
   ]
  },
  {
   "cell_type": "code",
   "execution_count": 16,
   "id": "5e3ef50e-e4cc-4e7b-8360-8736584a1ec3",
   "metadata": {},
   "outputs": [
    {
     "data": {
      "text/html": [
       "<div>\n",
       "<style scoped>\n",
       "    .dataframe tbody tr th:only-of-type {\n",
       "        vertical-align: middle;\n",
       "    }\n",
       "\n",
       "    .dataframe tbody tr th {\n",
       "        vertical-align: top;\n",
       "    }\n",
       "\n",
       "    .dataframe thead th {\n",
       "        text-align: right;\n",
       "    }\n",
       "</style>\n",
       "<table border=\"1\" class=\"dataframe\">\n",
       "  <thead>\n",
       "    <tr style=\"text-align: right;\">\n",
       "      <th></th>\n",
       "      <th>title</th>\n",
       "      <th>year</th>\n",
       "      <th>rating</th>\n",
       "    </tr>\n",
       "  </thead>\n",
       "  <tbody>\n",
       "    <tr>\n",
       "      <th>3</th>\n",
       "      <td>Forrest Gump</td>\n",
       "      <td>1994</td>\n",
       "      <td>8.8</td>\n",
       "    </tr>\n",
       "  </tbody>\n",
       "</table>\n",
       "</div>"
      ],
      "text/plain": [
       "          title  year  rating\n",
       "3  Forrest Gump  1994     8.8"
      ]
     },
     "execution_count": 16,
     "metadata": {},
     "output_type": "execute_result"
    }
   ],
   "source": [
    "df.tail(1)"
   ]
  },
  {
   "cell_type": "markdown",
   "id": "5b244fee-c442-4dc9-b585-3b65615742a4",
   "metadata": {},
   "source": [
    ">Q6. Which of the following is mutable in nature Series, DataFrame, Panel?"
   ]
  },
  {
   "cell_type": "markdown",
   "id": "1cb48f34-546b-438c-bc6b-6b81f87212e8",
   "metadata": {},
   "source": [
    "- In Pandas, Series and DataFrame are mutable objects, whereas Panel is an immutable object.\n",
    "\n",
    "- When we modify a Series or a DataFrame, Pandas creates a new object with the modified data, rather than modifying the original object in place. This means that we can change the data in a Series or a DataFrame without affecting the original object, which is a characteristic of mutable objects.\n",
    "\n",
    "- On the other hand, Panel is an immutable object, which means that its contents cannot be modified after it is created. Instead, we must create a new Panel object with the desired modifications. However, as of version 1.0.0, Panel has been deprecated and replaced by other data structures such as MultiIndex and xarray."
   ]
  },
  {
   "cell_type": "markdown",
   "id": "e14cec6d-7a95-4768-a740-1e6a7345eb82",
   "metadata": {},
   "source": [
    ">Q7. Create a DataFrame using multiple Series. Explain with an example."
   ]
  },
  {
   "cell_type": "code",
   "execution_count": 17,
   "id": "92fc6054-daad-40b6-8d94-275265f73260",
   "metadata": {},
   "outputs": [
    {
     "name": "stdout",
     "output_type": "stream",
     "text": [
      "      Name  Age Gender\n",
      "0    Alice   25      F\n",
      "1      Bob   30      M\n",
      "2  Charlie   35      M\n"
     ]
    }
   ],
   "source": [
    "import pandas as pd\n",
    "\n",
    "# create three Series\n",
    "names = pd.Series(['Alice', 'Bob', 'Charlie'])\n",
    "ages = pd.Series([25, 30, 35])\n",
    "genders = pd.Series(['F', 'M', 'M'])\n",
    "\n",
    "# create a DataFrame using the Series\n",
    "df = pd.DataFrame({'Name': names, 'Age': ages, 'Gender': genders})\n",
    "\n",
    "# print the DataFrame\n",
    "print(df)\n"
   ]
  }
 ],
 "metadata": {
  "kernelspec": {
   "display_name": "Python 3 (ipykernel)",
   "language": "python",
   "name": "python3"
  },
  "language_info": {
   "codemirror_mode": {
    "name": "ipython",
    "version": 3
   },
   "file_extension": ".py",
   "mimetype": "text/x-python",
   "name": "python",
   "nbconvert_exporter": "python",
   "pygments_lexer": "ipython3",
   "version": "3.10.8"
  }
 },
 "nbformat": 4,
 "nbformat_minor": 5
}

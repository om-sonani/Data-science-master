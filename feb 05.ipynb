{
 "cells": [
  {
   "cell_type": "markdown",
   "id": "1e361bf3-7fb9-42b2-8204-6e6101d49ea6",
   "metadata": {},
   "source": [
    "Q1. Explain Class and Object with respect to Object-Oriented Programming. Give a suitable example."
   ]
  },
  {
   "cell_type": "markdown",
   "id": "a68aed87-8752-4400-a16a-14b820a898ec",
   "metadata": {},
   "source": [
    "> A class is a blueprint for creating objects (instances), providing initial values for state (member variables or attributes), and implementations of behavior (member functions or methods). In OOP, classes define objects and their behaviors.\n",
    "\n",
    "> An object is an instance of a class, created at runtime. Each object has its own state and behavior. Objects interact with each other through methods and can change their state."
   ]
  },
  {
   "cell_type": "code",
   "execution_count": 3,
   "id": "1515290d-214b-4b91-a7dc-2780b82a8a5d",
   "metadata": {},
   "outputs": [
    {
     "name": "stdout",
     "output_type": "stream",
     "text": [
      "My car is a Toyota Camry from 2020\n",
      "Your car is a Honda Civic from 2022\n",
      "Starting the Toyota Camry\n",
      "Starting the Honda Civic\n"
     ]
    }
   ],
   "source": [
    "class Car:\n",
    "    def __init__(self, make, model, year):\n",
    "        self.make = make\n",
    "        self.model = model\n",
    "        self.year = year\n",
    "\n",
    "    def start(self):\n",
    "        print(f\"Starting the {self.make} {self.model}\")\n",
    "\n",
    "# Create objects of the Car class\n",
    "my_car = Car(\"Toyota\", \"Camry\", 2020)\n",
    "your_car = Car(\"Honda\", \"Civic\", 2022)\n",
    "\n",
    "# Access object attributes\n",
    "print(f\"My car is a {my_car.make} {my_car.model} from {my_car.year}\")\n",
    "print(f\"Your car is a {your_car.make} {your_car.model} from {your_car.year}\")\n",
    "\n",
    "# Call object methods\n",
    "my_car.start()\n",
    "your_car.start()\n"
   ]
  },
  {
   "cell_type": "markdown",
   "id": "5ab9ec6c-bacf-4488-a78a-0c6ad0ba8b56",
   "metadata": {},
   "source": [
    "Q2. Name the four pillars of OOPs."
   ]
  },
  {
   "cell_type": "markdown",
   "id": "063dea98-a849-4cfc-88d7-b89cd54e9cc2",
   "metadata": {},
   "source": [
    "The four pillars of object-oriented programming (OOP) are:\n",
    "\n",
    "> Abstraction: The process of hiding implementation details and showing only the essential features of an object to the outside world. This helps to reduce complexity and increase reusability.\n",
    "\n",
    "> Encapsulation: The technique of wrapping data and functions within a single unit or object, so that the internal representation of an object is hidden from the outside world.\n",
    "\n",
    "> Inheritance: The mechanism of acquiring the properties and behavior of an existing class into a new class. This helps to eliminate redundant code and promote code reuse.\n",
    "\n",
    "> Polymorphism: The ability of an object to take on multiple forms. Polymorphism enables objects to be used interchangeably in the same context, even if their underlying implementation is different.\n",
    "\n",
    "These four pillars form the foundation of OOP and help to achieve the goals of modularity, reusability, and maintenance.\n",
    "\n",
    "\n",
    "\n"
   ]
  },
  {
   "cell_type": "markdown",
   "id": "25b43dba-8611-49bd-91a8-d5451fa383b4",
   "metadata": {},
   "source": [
    "Q3. Explain why the __init__() function is used. Give a suitable example."
   ]
  },
  {
   "cell_type": "markdown",
   "id": "d4a40e61-3ce0-4ebc-8c66-6c45b73aa9ea",
   "metadata": {},
   "source": [
    "> The __init__ method, also known as the constructor, is a special method in Python that is automatically called when an object is created from a class. It is used to initialize the object's attributes with default or user-specified values."
   ]
  },
  {
   "cell_type": "code",
   "execution_count": 1,
   "id": "ad5e74f9-77c0-4be9-be61-9c15fb7034eb",
   "metadata": {},
   "outputs": [
    {
     "name": "stdout",
     "output_type": "stream",
     "text": [
      "Max is a Labrador and is 3 years old\n",
      "Buddy is a Beagle and is 5 years old\n",
      "Max barks!\n",
      "Buddy barks!\n"
     ]
    }
   ],
   "source": [
    "class Dog:\n",
    "    def __init__(self, name, breed, age):\n",
    "        self.name = name\n",
    "        self.breed = breed\n",
    "        self.age = age\n",
    "\n",
    "    def bark(self):\n",
    "        print(f\"{self.name} barks!\")\n",
    "\n",
    "# Create objects of the Dog class\n",
    "dog1 = Dog(\"Max\", \"Labrador\", 3)\n",
    "dog2 = Dog(\"Buddy\", \"Beagle\", 5)\n",
    "\n",
    "# Access object attributes\n",
    "print(f\"{dog1.name} is a {dog1.breed} and is {dog1.age} years old\")\n",
    "print(f\"{dog2.name} is a {dog2.breed} and is {dog2.age} years old\")\n",
    "\n",
    "# Call object methods\n",
    "dog1.bark()\n",
    "dog2.bark()\n"
   ]
  },
  {
   "cell_type": "markdown",
   "id": "68aa80ab-ddda-4c71-83ed-a61e7064ce70",
   "metadata": {},
   "source": [
    "Q4. Why self is used in OOPs?"
   ]
  },
  {
   "cell_type": "markdown",
   "id": "1392732c-1739-4e4f-b017-45259a4660af",
   "metadata": {},
   "source": [
    " > The self keyword is used in object-oriented programming (OOP) to refer to the instance of the object on which a method is being called. It is a convention in Python to use self as the first argument in an object's method, but you could use any other name as well.\n",
    "\n",
    " > In other words, self acts as a placeholder for the instance of the object. When a method is called on an object, the instance of the object is automatically passed as the first argument to the method. This allows the method to access and modify the attributes and behaviors of the object. -->"
   ]
  },
  {
   "cell_type": "markdown",
   "id": "954e564b-e377-47d8-a5b1-20598e58f77a",
   "metadata": {},
   "source": [
    "Q5. What is inheritance? Give an example for each type of inheritance."
   ]
  },
  {
   "cell_type": "markdown",
   "id": "f9ad4417-1282-4f0f-b368-0354ee867e07",
   "metadata": {},
   "source": [
    "> Inheritance is a mechanism in Object-Oriented Programming (OOP) where a class can inherit properties and methods from a parent class. This allows for the creation of new classes that are related to existing classes, without having to write all the code from scratch. There are three types of inheritance in Python:"
   ]
  },
  {
   "cell_type": "markdown",
   "id": "e729b361-e902-4066-abc6-6928f22b14e0",
   "metadata": {},
   "source": [
    ">> Single inheritance: When a class inherits from a single parent class, it is called single inheritance."
   ]
  },
  {
   "cell_type": "code",
   "execution_count": 4,
   "id": "4680ce54-bb92-4220-9343-a16b3902cd74",
   "metadata": {},
   "outputs": [
    {
     "name": "stdout",
     "output_type": "stream",
     "text": [
      "Parent class\n"
     ]
    }
   ],
   "source": [
    "class Parent:\n",
    "    def display(self):\n",
    "        print(\"Parent class\")\n",
    "\n",
    "class Child(Parent):\n",
    "    pass\n",
    "\n",
    "obj = Child()\n",
    "obj.display()\n"
   ]
  },
  {
   "cell_type": "markdown",
   "id": "9845224c-df7c-45eb-abb1-50605bc89e9d",
   "metadata": {},
   "source": [
    ">> Multiple inheritance: When a class inherits from multiple parent classes, it is called multiple inheritance."
   ]
  },
  {
   "cell_type": "code",
   "execution_count": 5,
   "id": "67b217bc-f0a0-43e3-b796-54416e53c253",
   "metadata": {},
   "outputs": [
    {
     "name": "stdout",
     "output_type": "stream",
     "text": [
      "Parent 1 class\n"
     ]
    }
   ],
   "source": [
    "class Parent1:\n",
    "    def display(self):\n",
    "        print(\"Parent 1 class\")\n",
    "\n",
    "class Parent2:\n",
    "    def display(self):\n",
    "        print(\"Parent 2 class\")\n",
    "\n",
    "class Child(Parent1, Parent2):\n",
    "    pass\n",
    "\n",
    "obj = Child()\n",
    "obj.display()\n"
   ]
  },
  {
   "cell_type": "markdown",
   "id": "1ead6982-1d89-4359-8349-8e283f7507ac",
   "metadata": {},
   "source": [
    ">> Multi-level inheritance: When a class inherits from a parent class, and that parent class inherits from another parent class, it is called multi-level inheritance.\n"
   ]
  },
  {
   "cell_type": "code",
   "execution_count": 6,
   "id": "8d1bfba5-43a3-46f8-90b8-cbff50643420",
   "metadata": {},
   "outputs": [
    {
     "name": "stdout",
     "output_type": "stream",
     "text": [
      "GrandParent class\n"
     ]
    }
   ],
   "source": [
    "class GrandParent:\n",
    "    def display(self):\n",
    "        print(\"GrandParent class\")\n",
    "\n",
    "class Parent(GrandParent):\n",
    "    pass\n",
    "\n",
    "class Child(Parent):\n",
    "    pass\n",
    "\n",
    "obj = Child()\n",
    "obj.display()\n"
   ]
  },
  {
   "cell_type": "code",
   "execution_count": null,
   "id": "38dcc0bb-481a-4b33-a2ec-082e54382736",
   "metadata": {},
   "outputs": [],
   "source": []
  }
 ],
 "metadata": {
  "kernelspec": {
   "display_name": "Python 3 (ipykernel)",
   "language": "python",
   "name": "python3"
  },
  "language_info": {
   "codemirror_mode": {
    "name": "ipython",
    "version": 3
   },
   "file_extension": ".py",
   "mimetype": "text/x-python",
   "name": "python",
   "nbconvert_exporter": "python",
   "pygments_lexer": "ipython3",
   "version": "3.10.8"
  }
 },
 "nbformat": 4,
 "nbformat_minor": 5
}
